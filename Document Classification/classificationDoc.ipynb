{
 "cells": [
  {
   "cell_type": "code",
   "execution_count": null,
   "metadata": {
    "colab": {
     "base_uri": "https://localhost:8080/"
    },
    "id": "AgXzrMa84rVa",
    "outputId": "a04b3934-7ea1-44d3-c216-7160c20c1d79"
   },
   "outputs": [
    {
     "name": "stdout",
     "output_type": "stream",
     "text": [
      "[nltk_data] Downloading package stopwords to /root/nltk_data...\n",
      "[nltk_data]   Package stopwords is already up-to-date!\n",
      "[nltk_data] Downloading package punkt to /root/nltk_data...\n",
      "[nltk_data]   Package punkt is already up-to-date!\n"
     ]
    }
   ],
   "source": [
    "import numpy as np\n",
    "import matplotlib.pyplot as plt\n",
    "\n",
    "import codecs\n",
    "import re\n",
    "import os.path\n",
    "import re\n",
    "import unicodedata\n",
    "import string\n",
    "from time import process_time\n",
    "import pandas as pd\n",
    "\n",
    "import nltk\n",
    "from nltk.corpus import stopwords\n",
    "from nltk.tokenize import word_tokenize\n",
    "from nltk.stem.snowball import SnowballStemmer \n",
    "\n",
    "nltk.download('stopwords')\n",
    "nltk.download('punkt')\n",
    "\n",
    "import sklearn.naive_bayes as nb\n",
    "from sklearn import svm\n",
    "from sklearn import linear_model as lin\n",
    "from sklearn.model_selection import train_test_split\n",
    "from sklearn.model_selection import cross_val_score\n",
    "from sklearn.metrics import accuracy_score\n",
    "from sklearn.metrics import classification_report\n",
    "from sklearn.metrics import make_scorer, f1_score\n",
    "from sklearn.pipeline import Pipeline\n",
    "\n",
    "import warnings\n",
    "warnings.filterwarnings(\"ignore\")\n",
    "\n",
    "from wordcloud import WordCloud, ImageColorGenerator \n",
    "from sklearn.feature_extraction.text import CountVectorizer\n",
    "from sklearn.feature_extraction.text import TfidfVectorizer\n",
    "\n",
    "\n",
    "mytime = 0\n",
    "def tic():\n",
    "    global mytime\n",
    "    mytime = process_time()\n",
    "def tac():\n",
    "    global mytime\n",
    "    return process_time()-mytime\n",
    "    \n",
    "def load_pres(fname):\n",
    "    alltxts = []\n",
    "    alllabs = []\n",
    "    s=codecs.open(fname, 'r','utf-8') # pour régler le codage\n",
    "    while True:\n",
    "        txt = s.readline()\n",
    "        if(len(txt))<5:\n",
    "            break\n",
    "        #\n",
    "        lab = re.sub(r\"<[0-9]*:[0-9]*:(.)>.*\",\"\\\\1\",txt)\n",
    "        txt = re.sub(r\"<[0-9]*:[0-9]*:.>(.*)\",\"\\\\1\",txt)\n",
    "        if lab.count('M') >0:\n",
    "            alllabs.append(-1)\n",
    "        else: \n",
    "            alllabs.append(1)\n",
    "        alltxts.append(txt)\n",
    "    return alltxts,alllabs\n",
    "    \n",
    "def load_pres_test(fname):\n",
    "    alltxts = []\n",
    "    alllabs = []\n",
    "    s=codecs.open(fname, 'r','utf-8') # pour régler le codage\n",
    "\n",
    "    while True:\n",
    "        txt = s.readline()\n",
    "        if(len(txt))<5:\n",
    "            break\n",
    "        #\n",
    "\n",
    "        txt = re.sub(r\"<[0-9]*:[0-9]*>(.*)\",\"\\\\1\",txt)\n",
    "        alltxts.append(txt.split(\" \",1)[1])\n",
    "    return alltxts\n",
    "\n",
    "\n",
    "def equilibrer(x,y):\n",
    "        '''\n",
    "            renvoies datax et datay équilibrés\n",
    "        '''\n",
    "        x, y = np.array(x), np.array(y)\n",
    "\n",
    "        chirac = np.where(y==1)[0]\n",
    "        mitterand = np.where(y==-1)[0]\n",
    "\n",
    "        nb_delete = np.abs(len(chirac)- len(mitterand))\n",
    "    \n",
    "        if len(chirac) > len(mitterand):\n",
    "            ind = np.random.choice(chirac,nb_delete,replace=False)\n",
    "        else:\n",
    "            ind = np.random.choice(chirac,nb_delete,replace=False)\n",
    "\n",
    "\n",
    "        return np.delete(x,ind),np.delete(y,ind)\n",
    "\n",
    "def prepare(x,lower=False,numbers=False,punct=False,stemming=True,stopword=True):\n",
    "\n",
    "    if(numbers == False):\n",
    "      x = re.sub('[0-9]+', '', x)\n",
    "\n",
    "    if(punct == False):\n",
    "      p = string.punctuation \n",
    "      p += '\\n\\r\\t'\n",
    "      x = x.translate(str.maketrans(p, ' ' * len(p))) \n",
    "\n",
    "    x = word_tokenize(x)  \n",
    "    if len(x) == 0:\n",
    "      return \"\"\n",
    "\n",
    "    if(lower == True):\n",
    "      x = np.char.lower(x)\n",
    "\n",
    "    if(stopword == False):\n",
    "      stop_list = stopwords.words('french')\n",
    "      x = [i for i in x if not i in stop_list]\n",
    "\n",
    "    if(stemming == True):\n",
    "      stemmer = SnowballStemmer(language='french')\n",
    "      x = [stemmer.stem(i) for i in x]\n",
    "\n",
    "    return \" \".join(x)\n",
    "\n",
    "\n",
    "\n",
    "def my_cross_val(x,y,vectorizer,models_list,model_names,print=False,cv=5):\n",
    "  f1_score_M = make_scorer(f1_score,average='binary',pos_label=-1)\n",
    "  f1_score_C = make_scorer(f1_score,average='binary',pos_label=1)\n",
    "  models=[]\n",
    "  for m,name in zip(models_list,model_names):\n",
    "    models.append(Pipeline([('vect', vectorizer), (name, m)]))\n",
    "    \n",
    "  scores = {'Chirac Mean': [],\n",
    "          'Chirac Std': [],\n",
    "          'Mitterrand Mean': [],\n",
    "          'Mitterrand Std': []\n",
    "          }\n",
    "\n",
    "  for m in models:\n",
    "      f1_c = cross_val_score(m,x,y,cv=5,scoring=f1_score_C)\n",
    "      f1_m = cross_val_score(m,x,y,cv=5,scoring=f1_score_M)\n",
    "      scores['Chirac Mean'] += [f1_c.mean()]\n",
    "      scores['Chirac Std'] += [f1_c.std()]\n",
    "      scores['Mitterrand Mean'] += [f1_m.mean()]\n",
    "      scores['Mitterrand Std'] += [f1_m.std()]\n",
    "\n",
    "\n",
    "  df = pd.DataFrame(scores, columns = ['Chirac Mean','Chirac Std', 'Mitterrand Mean', 'Mitterrand Std'],index=model_names)\n",
    "  if print == True:\n",
    "    return df\n",
    "  else:\n",
    "    return scores\n",
    "\n",
    "\n",
    "def gridSearchSVM(x,y,xt,yt,vect):\n",
    "  scores_c = []\n",
    "  scores_m = []\n",
    "  c_value = [0.1,1,10,100,1000]\n",
    "  for c in c_value:\n",
    "    m = svm.LinearSVC(C=c)\n",
    "    \n",
    "    scores = get_scores(m,x,y,xt,yt,vect)\n",
    "    scores_c.append(scores['Chirac'][\"f1-score\"])\n",
    "    scores_m.append(scores['Mitterrand'][\"f1-score\"])\n",
    "\n",
    "  c_value = list(map(str,[0.1,1,10,100,1000]))  \n",
    "  plt.figure()\n",
    "  plt.title(\"Grid Search param C de SVM TfidfVectorizer uni+bi+trigrame\")\n",
    "  plt.plot(c_value,scores_c,label=\"Chirac\")\n",
    "  plt.plot(c_value,scores_m,label=\"Mitterrand\")\n",
    "  plt.xlabel(\"valeur de C\")\n",
    "  plt.ylabel(\"score F1\")\n",
    "  plt.legend()\n",
    "  plt.show()\n",
    "\n",
    "\n",
    "def gridSearchLissage(y,ypred):\n",
    "  \n",
    "  target_names = ['Mitterrand', 'Chirac']\n",
    "  scores_c = []\n",
    "  scores_m = []\n",
    "  k_value = [2,3,4,5,6,7,8,9,10,11,12]\n",
    "  for k in k_value:\n",
    "    new = lissage(ypred,k,2.5)\n",
    "    \n",
    "    scores = classification_report(y, new,output_dict=True,target_names=target_names)\n",
    "    scores_c.append(scores['Chirac'][\"f1-score\"])\n",
    "    scores_m.append(scores['Mitterrand'][\"f1-score\"])\n",
    "  k_value = list(map(str,[2,3,4,5,6,7,8,9,10,11,12]))  \n",
    "  plt.figure()\n",
    "  plt.title(\"Grid Search param K de lissage\")\n",
    "  plt.plot(k_value,scores_c,label=\"Chirac\")\n",
    "  plt.plot(k_value,scores_m,label=\"Mitterrand\")\n",
    "  plt.xlabel(\"valeur de K\")\n",
    "  plt.ylabel(\"score F1\")\n",
    "  plt.legend()\n",
    "  plt.show()\n",
    "\n",
    "\n",
    "def get_report(model,datax,datay,vectorizer,p,shuffle=True):\n",
    "    \n",
    "    target_names = ['Mitterrand', 'Chirac']\n",
    "    \n",
    "    X_train, X_test, y_train, y_test = train_test_split(datax,datay,test_size=p,shuffle=shuffle) \n",
    "    X = vectorizer.fit_transform(X_train)\n",
    "    model.fit(X, y_train)\n",
    "    X_t = vectorizer.transform(X_test)\n",
    "    return classification_report(y_test, model.predict(X_t), target_names=target_names,output_dict=True)\n",
    "\n",
    "def preparation_gridSearch(alltxts,alllabs,model,p):\n",
    "    res=list()\n",
    "    params=list() # (lower,punc,stemming,stopword)\n",
    "    for lower in [True,False] : \n",
    "        for punct in [True,False]:\n",
    "            for stemming in [True,False]:\n",
    "                for stopword in [True,False]:\n",
    "                    def process(x):\n",
    "                      return prepare(x,lower=lower, numbers=False, punct=punct, stemming=stemming, stopword=stopword)\n",
    "\n",
    "                    vect = TfidfVectorizer(preprocessor = process,lowercase=False)\n",
    "                    report = get_report(model,alltxts,alllabs,vect,p,shuffle=False)\n",
    "                    res.append((report['Chirac']['f1-score'],report['Mitterrand']['f1-score']))\n",
    "                    params.append((lower,punct,stemming,stopword,res[-1][0],res[-1][1]))\n",
    "    return res, params\n",
    "\n",
    "def split_by_document(fname,p):\n",
    "    train_X = []\n",
    "    train_y = []\n",
    "    test_X = []\n",
    "    test_y = []\n",
    "    ids = []\n",
    "    s=codecs.open(fname, 'r','utf-8') # pour régler le codage\n",
    "    #get all document id's\n",
    "    while True:\n",
    "        txt = s.readline()\n",
    "        if(len(txt))<5:\n",
    "            break\n",
    "        #\n",
    "        id = re.sub(r\"<([0-9]*):[0-9]*:(.)>.*\",\"\\\\1\",txt)\n",
    "        ids.append(id)\n",
    "    ids = np.array(list(set(ids)))\n",
    "    np.random.shuffle(ids)\n",
    "    test_ids = ids[:int(len(ids)*p)]\n",
    "\n",
    "    s=codecs.open(fname, 'r','utf-8')\n",
    "    while True:           \n",
    "        txt = s.readline()\n",
    "        if(len(txt))<5:\n",
    "            break\n",
    "        # \n",
    "        id = re.sub(r\"<([0-9]*):[0-9]*:(.)>.*\",\"\\\\1\",txt)\n",
    "        lab = re.sub(r\"<[0-9]*:[0-9]*:(.)>.*\",\"\\\\1\",txt)\n",
    "        txt = re.sub(r\"<[0-9]*:[0-9]*:.>(.*)\",\"\\\\1\",txt)\n",
    "        if id in test_ids:\n",
    "          if lab.count('M') >0:\n",
    "              test_y.append(-1)\n",
    "          else: \n",
    "              test_y.append(1)\n",
    "          test_X.append(txt)\n",
    "        else:\n",
    "          if lab.count('M') >0:\n",
    "              train_y.append(-1)\n",
    "          else: \n",
    "              train_y.append(1)\n",
    "          train_X.append(txt)\n",
    "    return  train_X, train_y, test_X, test_y\n",
    "\n",
    "def get_scores(m,x,y,xt,yt,vect):\n",
    "  \n",
    "  target_names = ['Mitterrand', 'Chirac']\n",
    "  X = vect.fit_transform(np.array(x))\n",
    "  X_test = vect.transform(np.array(xt))\n",
    "  m.fit(X, y)\n",
    "  return classification_report(yt, m.predict(X_test),output_dict=True,target_names=target_names)\n",
    "\n",
    "from collections import Counter\n",
    "def lissage(pred, k, coef):\n",
    "    window = (k-1)//2\n",
    "\n",
    "    new = list(pred[:window])\n",
    "    \n",
    "    for i in range(window,len(pred)-window):\n",
    "        tmp = Counter(pred[i-window:i+window+1])\n",
    "        nbC = tmp[1]\n",
    "        nbM = tmp[-1]\n",
    "        if nbC > coef*nbM:\n",
    "            new.append(1)\n",
    "        else:\n",
    "            new.append(-1)\n",
    "    for j in range(window):\n",
    "        new.append(pred[-(window-j)])\n",
    "\n",
    "\n",
    "    return new"
   ]
  },
  {
   "cell_type": "code",
   "execution_count": null,
   "metadata": {
    "id": "TLyMvrDhFw9V"
   },
   "outputs": [],
   "source": [
    "train_X, train_y, test_X, test_y = split_by_document(\"corpus.tache1.learn.utf8\",0.3)"
   ]
  },
  {
   "cell_type": "code",
   "execution_count": null,
   "metadata": {
    "id": "8GiQgYhqf499"
   },
   "outputs": [],
   "source": [
    "def load_labels(fname):\n",
    "    out = []\n",
    "    s=codecs.open(fname, 'r','utf-8') # pour régler le codage\n",
    "    while True:\n",
    "        txt = s.readline()\n",
    "        if(len(txt))<5:\n",
    "            break\n",
    "        #\n",
    "        lab = re.sub(r\"<[0-9]*:[0-9]*:(.)>.*\",\"\\\\1\",txt)\n",
    "        if lab.count('M') >0:\n",
    "            out.append(-1)\n",
    "        else: \n",
    "            out.append(1)\n",
    "    return out\n"
   ]
  },
  {
   "cell_type": "markdown",
   "metadata": {
    "id": "PwKokidShMuN"
   },
   "source": [
    "## **Loading Data :**"
   ]
  },
  {
   "cell_type": "code",
   "execution_count": null,
   "metadata": {
    "id": "phV1qEvFWHea"
   },
   "outputs": [],
   "source": [
    "vect = CountVectorizer(preprocessor = prepare,lowercase=False)"
   ]
  },
  {
   "cell_type": "code",
   "execution_count": null,
   "metadata": {
    "id": "XpcYevbLVXBa"
   },
   "outputs": [],
   "source": [
    "m = svm.LinearSVC()\n",
    "svm_report = get_scores(m,train_X, train_y, test_X, test_y,vect)\n",
    "\n",
    "m = nb.MultinomialNB()\n",
    "nb_report = get_scores(m,train_X, train_y, test_X, test_y,vect)\n",
    "\n",
    "m = lin.LogisticRegression()\n",
    "lr_report = get_scores(m,train_X, train_y, test_X, test_y,vect)\n",
    "\n"
   ]
  },
  {
   "cell_type": "code",
   "execution_count": null,
   "metadata": {
    "colab": {
     "base_uri": "https://localhost:8080/",
     "height": 142
    },
    "id": "R_An0aIuV5mg",
    "outputId": "3ec26856-a78a-4d8a-eae3-ec1eb6f81efd"
   },
   "outputs": [
    {
     "data": {
      "text/html": [
       "<div>\n",
       "<style scoped>\n",
       "    .dataframe tbody tr th:only-of-type {\n",
       "        vertical-align: middle;\n",
       "    }\n",
       "\n",
       "    .dataframe tbody tr th {\n",
       "        vertical-align: top;\n",
       "    }\n",
       "\n",
       "    .dataframe thead th {\n",
       "        text-align: right;\n",
       "    }\n",
       "</style>\n",
       "<table border=\"1\" class=\"dataframe\">\n",
       "  <thead>\n",
       "    <tr style=\"text-align: right;\">\n",
       "      <th></th>\n",
       "      <th>Chirac</th>\n",
       "      <th>Mitterrand</th>\n",
       "    </tr>\n",
       "  </thead>\n",
       "  <tbody>\n",
       "    <tr>\n",
       "      <th>SVM</th>\n",
       "      <td>0.933606</td>\n",
       "      <td>0.466788</td>\n",
       "    </tr>\n",
       "    <tr>\n",
       "      <th>Naive Bayes</th>\n",
       "      <td>0.931033</td>\n",
       "      <td>0.496529</td>\n",
       "    </tr>\n",
       "    <tr>\n",
       "      <th>Logistic Regression</th>\n",
       "      <td>0.941538</td>\n",
       "      <td>0.474352</td>\n",
       "    </tr>\n",
       "  </tbody>\n",
       "</table>\n",
       "</div>"
      ],
      "text/plain": [
       "                       Chirac  Mitterrand\n",
       "SVM                  0.933606    0.466788\n",
       "Naive Bayes          0.931033    0.496529\n",
       "Logistic Regression  0.941538    0.474352"
      ]
     },
     "execution_count": 56,
     "metadata": {
      "tags": []
     },
     "output_type": "execute_result"
    }
   ],
   "source": [
    "scores = {'Chirac': [svm_report['Chirac']['f1-score'],nb_report['Chirac']['f1-score'],lr_report['Chirac']['f1-score']],\n",
    "        'Mitterrand': [svm_report['Mitterrand']['f1-score'],nb_report['Mitterrand']['f1-score'],lr_report['Mitterrand']['f1-score']]\n",
    "        }\n",
    "\n",
    "df = pd.DataFrame(scores, columns = ['Chirac', 'Mitterrand'],index=['SVM','Naive Bayes','Logistic Regression'])\n",
    "\n",
    "df"
   ]
  },
  {
   "cell_type": "markdown",
   "metadata": {
    "id": "bP367gCehRrG"
   },
   "source": [
    "## **Balancing Data :**"
   ]
  },
  {
   "cell_type": "code",
   "execution_count": null,
   "metadata": {
    "id": "Fh62tRmE63ZY"
   },
   "outputs": [],
   "source": [
    "alltxts_new,alllabs_new = equilibrer(alltxts,alllabs)"
   ]
  },
  {
   "cell_type": "code",
   "execution_count": null,
   "metadata": {
    "colab": {
     "base_uri": "https://localhost:8080/",
     "height": 575
    },
    "id": "6pPCVV1w3vah",
    "outputId": "8a9696e6-0623-4f62-eec8-7d6a031192b5"
   },
   "outputs": [
    {
     "data": {
      "image/png": "[encoded data removed]",
      "text/plain": [
       "<Figure size 720x720 with 1 Axes>"
      ]
     },
     "metadata": {
      "tags": []
     },
     "output_type": "display_data"
    }
   ],
   "source": [
    "fig = plt.figure(figsize =(10, 10))\n",
    "plt.pie([np.where(np.asarray(alllabs) == 1,1,0).sum(),np.where(np.asarray(alllabs) == -1,1,0).sum()], \\\n",
    "        labels = ['Chirac', 'Mitterand'],autopct='%1.2f%%')\n",
    "\n",
    "plt.show()"
   ]
  },
  {
   "cell_type": "code",
   "execution_count": null,
   "metadata": {
    "colab": {
     "base_uri": "https://localhost:8080/",
     "height": 575
    },
    "id": "HiD6Uk0F61F0",
    "outputId": "e055bd42-62f6-404b-bb16-8ab1b5ffbe4c"
   },
   "outputs": [
    {
     "data": {
      "image/png": "[encoded data removed]",
      "text/plain": [
       "<Figure size 720x720 with 1 Axes>"
      ]
     },
     "metadata": {
      "tags": []
     },
     "output_type": "display_data"
    }
   ],
   "source": [
    "fig = plt.figure(figsize =(10, 10))\n",
    "plt.pie([np.where(np.asarray(alllabs_new) == 1,1,0).sum(),np.where(np.asarray(alllabs_new) == -1,1,0).sum()], \\\n",
    "        labels = ['Chirac', 'Mitterand'],autopct='%1.2f%%')\n",
    "\n",
    "plt.show()"
   ]
  },
  {
   "cell_type": "code",
   "execution_count": null,
   "metadata": {
    "colab": {
     "base_uri": "https://localhost:8080/",
     "height": 142
    },
    "id": "WPXZKApXaFI0",
    "outputId": "e63e8690-71e6-46ca-c6b2-48978cf942df"
   },
   "outputs": [
    {
     "data": {
      "text/html": [
       "<div>\n",
       "<style scoped>\n",
       "    .dataframe tbody tr th:only-of-type {\n",
       "        vertical-align: middle;\n",
       "    }\n",
       "\n",
       "    .dataframe tbody tr th {\n",
       "        vertical-align: top;\n",
       "    }\n",
       "\n",
       "    .dataframe thead th {\n",
       "        text-align: right;\n",
       "    }\n",
       "</style>\n",
       "<table border=\"1\" class=\"dataframe\">\n",
       "  <thead>\n",
       "    <tr style=\"text-align: right;\">\n",
       "      <th></th>\n",
       "      <th>Chirac Mean</th>\n",
       "      <th>Chirac Std</th>\n",
       "      <th>Mitterrand Mean</th>\n",
       "      <th>Mitterrand Std</th>\n",
       "    </tr>\n",
       "  </thead>\n",
       "  <tbody>\n",
       "    <tr>\n",
       "      <th>SVM</th>\n",
       "      <td>0.742652</td>\n",
       "      <td>0.011267</td>\n",
       "      <td>0.738125</td>\n",
       "      <td>0.009267</td>\n",
       "    </tr>\n",
       "    <tr>\n",
       "      <th>Naive Bayes</th>\n",
       "      <td>0.769704</td>\n",
       "      <td>0.009202</td>\n",
       "      <td>0.776069</td>\n",
       "      <td>0.003987</td>\n",
       "    </tr>\n",
       "    <tr>\n",
       "      <th>Reg Logistique</th>\n",
       "      <td>0.768454</td>\n",
       "      <td>0.008353</td>\n",
       "      <td>0.760677</td>\n",
       "      <td>0.006033</td>\n",
       "    </tr>\n",
       "  </tbody>\n",
       "</table>\n",
       "</div>"
      ],
      "text/plain": [
       "                Chirac Mean  Chirac Std  Mitterrand Mean  Mitterrand Std\n",
       "SVM                0.742652    0.011267         0.738125        0.009267\n",
       "Naive Bayes        0.769704    0.009202         0.776069        0.003987\n",
       "Reg Logistique     0.768454    0.008353         0.760677        0.006033"
      ]
     },
     "execution_count": 121,
     "metadata": {
      "tags": []
     },
     "output_type": "execute_result"
    }
   ],
   "source": [
    "my_cross_val(alltxts_new,alllabs_new,vect,[svm.LinearSVC(),nb.MultinomialNB(),lin.LogisticRegression()],[\"SVM\",\"Naive Bayes\",\"Reg Logistique\"],print=True)"
   ]
  },
  {
   "cell_type": "markdown",
   "metadata": {
    "id": "tXUp7WFGsnmw"
   },
   "source": [
    "## **Grid search for text preparation :**"
   ]
  },
  {
   "cell_type": "markdown",
   "metadata": {
    "id": "O2okhtqsAUm_"
   },
   "source": [
    "### SVM:"
   ]
  },
  {
   "cell_type": "code",
   "execution_count": null,
   "metadata": {
    "id": "scgi0FEmAZVE"
   },
   "outputs": [],
   "source": [
    "model = svm.LinearSVC()\n",
    "res, params = preparation_gridSearch(alltxts_new,alllabs_new,model,0.3)"
   ]
  },
  {
   "cell_type": "code",
   "execution_count": null,
   "metadata": {
    "colab": {
     "base_uri": "https://localhost:8080/",
     "height": 521
    },
    "id": "ImNdt8VVAbOy",
    "outputId": "e841b3df-8c5f-493a-ea7c-4185629be32e"
   },
   "outputs": [
    {
     "data": {
      "text/html": [
       "<div>\n",
       "<style scoped>\n",
       "    .dataframe tbody tr th:only-of-type {\n",
       "        vertical-align: middle;\n",
       "    }\n",
       "\n",
       "    .dataframe tbody tr th {\n",
       "        vertical-align: top;\n",
       "    }\n",
       "\n",
       "    .dataframe thead th {\n",
       "        text-align: right;\n",
       "    }\n",
       "</style>\n",
       "<table border=\"1\" class=\"dataframe\">\n",
       "  <thead>\n",
       "    <tr style=\"text-align: right;\">\n",
       "      <th></th>\n",
       "      <th>to_lower</th>\n",
       "      <th>keep_punct</th>\n",
       "      <th>stemming</th>\n",
       "      <th>keep_stopwords</th>\n",
       "      <th>f1_C</th>\n",
       "      <th>f1_M</th>\n",
       "    </tr>\n",
       "  </thead>\n",
       "  <tbody>\n",
       "    <tr>\n",
       "      <th>0</th>\n",
       "      <td>1.0</td>\n",
       "      <td>1.0</td>\n",
       "      <td>1.0</td>\n",
       "      <td>1.0</td>\n",
       "      <td>0.763770</td>\n",
       "      <td>0.719341</td>\n",
       "    </tr>\n",
       "    <tr>\n",
       "      <th>1</th>\n",
       "      <td>1.0</td>\n",
       "      <td>1.0</td>\n",
       "      <td>1.0</td>\n",
       "      <td>0.0</td>\n",
       "      <td>0.751592</td>\n",
       "      <td>0.709445</td>\n",
       "    </tr>\n",
       "    <tr>\n",
       "      <th>2</th>\n",
       "      <td>1.0</td>\n",
       "      <td>1.0</td>\n",
       "      <td>0.0</td>\n",
       "      <td>1.0</td>\n",
       "      <td>0.769734</td>\n",
       "      <td>0.727888</td>\n",
       "    </tr>\n",
       "    <tr>\n",
       "      <th>3</th>\n",
       "      <td>1.0</td>\n",
       "      <td>1.0</td>\n",
       "      <td>0.0</td>\n",
       "      <td>0.0</td>\n",
       "      <td>0.755674</td>\n",
       "      <td>0.711143</td>\n",
       "    </tr>\n",
       "    <tr>\n",
       "      <th>4</th>\n",
       "      <td>1.0</td>\n",
       "      <td>0.0</td>\n",
       "      <td>1.0</td>\n",
       "      <td>1.0</td>\n",
       "      <td>0.764118</td>\n",
       "      <td>0.719379</td>\n",
       "    </tr>\n",
       "    <tr>\n",
       "      <th>5</th>\n",
       "      <td>1.0</td>\n",
       "      <td>0.0</td>\n",
       "      <td>1.0</td>\n",
       "      <td>0.0</td>\n",
       "      <td>0.749331</td>\n",
       "      <td>0.708363</td>\n",
       "    </tr>\n",
       "    <tr>\n",
       "      <th>6</th>\n",
       "      <td>1.0</td>\n",
       "      <td>0.0</td>\n",
       "      <td>0.0</td>\n",
       "      <td>1.0</td>\n",
       "      <td>0.769734</td>\n",
       "      <td>0.727888</td>\n",
       "    </tr>\n",
       "    <tr>\n",
       "      <th>7</th>\n",
       "      <td>1.0</td>\n",
       "      <td>0.0</td>\n",
       "      <td>0.0</td>\n",
       "      <td>0.0</td>\n",
       "      <td>0.750153</td>\n",
       "      <td>0.705144</td>\n",
       "    </tr>\n",
       "    <tr>\n",
       "      <th>8</th>\n",
       "      <td>0.0</td>\n",
       "      <td>1.0</td>\n",
       "      <td>1.0</td>\n",
       "      <td>1.0</td>\n",
       "      <td>0.763770</td>\n",
       "      <td>0.719341</td>\n",
       "    </tr>\n",
       "    <tr>\n",
       "      <th>9</th>\n",
       "      <td>0.0</td>\n",
       "      <td>1.0</td>\n",
       "      <td>1.0</td>\n",
       "      <td>0.0</td>\n",
       "      <td>0.756923</td>\n",
       "      <td>0.714664</td>\n",
       "    </tr>\n",
       "    <tr>\n",
       "      <th>10</th>\n",
       "      <td>0.0</td>\n",
       "      <td>1.0</td>\n",
       "      <td>0.0</td>\n",
       "      <td>1.0</td>\n",
       "      <td>0.786912</td>\n",
       "      <td>0.748188</td>\n",
       "    </tr>\n",
       "    <tr>\n",
       "      <th>11</th>\n",
       "      <td>0.0</td>\n",
       "      <td>1.0</td>\n",
       "      <td>0.0</td>\n",
       "      <td>0.0</td>\n",
       "      <td>0.776394</td>\n",
       "      <td>0.734931</td>\n",
       "    </tr>\n",
       "    <tr>\n",
       "      <th>12</th>\n",
       "      <td>0.0</td>\n",
       "      <td>0.0</td>\n",
       "      <td>1.0</td>\n",
       "      <td>1.0</td>\n",
       "      <td>0.764118</td>\n",
       "      <td>0.719379</td>\n",
       "    </tr>\n",
       "    <tr>\n",
       "      <th>13</th>\n",
       "      <td>0.0</td>\n",
       "      <td>0.0</td>\n",
       "      <td>1.0</td>\n",
       "      <td>0.0</td>\n",
       "      <td>0.752260</td>\n",
       "      <td>0.710096</td>\n",
       "    </tr>\n",
       "    <tr>\n",
       "      <th>14</th>\n",
       "      <td>0.0</td>\n",
       "      <td>0.0</td>\n",
       "      <td>0.0</td>\n",
       "      <td>1.0</td>\n",
       "      <td>0.786912</td>\n",
       "      <td>0.748188</td>\n",
       "    </tr>\n",
       "    <tr>\n",
       "      <th>15</th>\n",
       "      <td>0.0</td>\n",
       "      <td>0.0</td>\n",
       "      <td>0.0</td>\n",
       "      <td>0.0</td>\n",
       "      <td>0.773569</td>\n",
       "      <td>0.736211</td>\n",
       "    </tr>\n",
       "  </tbody>\n",
       "</table>\n",
       "</div>"
      ],
      "text/plain": [
       "    to_lower  keep_punct  stemming  keep_stopwords      f1_C      f1_M\n",
       "0        1.0         1.0       1.0             1.0  0.763770  0.719341\n",
       "1        1.0         1.0       1.0             0.0  0.751592  0.709445\n",
       "2        1.0         1.0       0.0             1.0  0.769734  0.727888\n",
       "3        1.0         1.0       0.0             0.0  0.755674  0.711143\n",
       "4        1.0         0.0       1.0             1.0  0.764118  0.719379\n",
       "5        1.0         0.0       1.0             0.0  0.749331  0.708363\n",
       "6        1.0         0.0       0.0             1.0  0.769734  0.727888\n",
       "7        1.0         0.0       0.0             0.0  0.750153  0.705144\n",
       "8        0.0         1.0       1.0             1.0  0.763770  0.719341\n",
       "9        0.0         1.0       1.0             0.0  0.756923  0.714664\n",
       "10       0.0         1.0       0.0             1.0  0.786912  0.748188\n",
       "11       0.0         1.0       0.0             0.0  0.776394  0.734931\n",
       "12       0.0         0.0       1.0             1.0  0.764118  0.719379\n",
       "13       0.0         0.0       1.0             0.0  0.752260  0.710096\n",
       "14       0.0         0.0       0.0             1.0  0.786912  0.748188\n",
       "15       0.0         0.0       0.0             0.0  0.773569  0.736211"
      ]
     },
     "execution_count": 11,
     "metadata": {
      "tags": []
     },
     "output_type": "execute_result"
    }
   ],
   "source": [
    "tmp = np.asarray(params)\n",
    "data = {\n",
    "    'to_lower' : list(tmp[:,0]),\n",
    "    'keep_punct' : list(tmp[:,1]),\n",
    "    'stemming' : list(tmp[:,2]),\n",
    "    'keep_stopwords' : list(tmp[:,3]),\n",
    "    'f1_C' : list(tmp[:,4]),\n",
    "    'f1_M' : list(tmp[:,5])\n",
    "}\n",
    "df = pd.DataFrame(data, columns = ['to_lower','keep_punct','stemming','keep_stopwords','f1_C','f1_M'])\n",
    "df"
   ]
  },
  {
   "cell_type": "markdown",
   "metadata": {
    "id": "NOFZenrJAXBD"
   },
   "source": [
    "### Naive Bayes"
   ]
  },
  {
   "cell_type": "code",
   "execution_count": null,
   "metadata": {
    "id": "1HdKGp88AdHZ"
   },
   "outputs": [],
   "source": [
    "model = nb.MultinomialNB()\n",
    "res, params = preparation_gridSearch(alltxts_new,alllabs_new,model,0.3)"
   ]
  },
  {
   "cell_type": "code",
   "execution_count": null,
   "metadata": {
    "colab": {
     "base_uri": "https://localhost:8080/",
     "height": 521
    },
    "id": "L-6aXjF_Ab9r",
    "outputId": "dbc3207d-d67c-4903-f6e0-52b260ed8fe5"
   },
   "outputs": [
    {
     "data": {
      "text/html": [
       "<div>\n",
       "<style scoped>\n",
       "    .dataframe tbody tr th:only-of-type {\n",
       "        vertical-align: middle;\n",
       "    }\n",
       "\n",
       "    .dataframe tbody tr th {\n",
       "        vertical-align: top;\n",
       "    }\n",
       "\n",
       "    .dataframe thead th {\n",
       "        text-align: right;\n",
       "    }\n",
       "</style>\n",
       "<table border=\"1\" class=\"dataframe\">\n",
       "  <thead>\n",
       "    <tr style=\"text-align: right;\">\n",
       "      <th></th>\n",
       "      <th>to_lower</th>\n",
       "      <th>keep_punct</th>\n",
       "      <th>stemming</th>\n",
       "      <th>keep_stopwords</th>\n",
       "      <th>f1_C</th>\n",
       "      <th>f1_M</th>\n",
       "    </tr>\n",
       "  </thead>\n",
       "  <tbody>\n",
       "    <tr>\n",
       "      <th>0</th>\n",
       "      <td>1.0</td>\n",
       "      <td>1.0</td>\n",
       "      <td>1.0</td>\n",
       "      <td>1.0</td>\n",
       "      <td>0.744124</td>\n",
       "      <td>0.744577</td>\n",
       "    </tr>\n",
       "    <tr>\n",
       "      <th>1</th>\n",
       "      <td>1.0</td>\n",
       "      <td>1.0</td>\n",
       "      <td>1.0</td>\n",
       "      <td>0.0</td>\n",
       "      <td>0.744074</td>\n",
       "      <td>0.739267</td>\n",
       "    </tr>\n",
       "    <tr>\n",
       "      <th>2</th>\n",
       "      <td>1.0</td>\n",
       "      <td>1.0</td>\n",
       "      <td>0.0</td>\n",
       "      <td>1.0</td>\n",
       "      <td>0.725051</td>\n",
       "      <td>0.736385</td>\n",
       "    </tr>\n",
       "    <tr>\n",
       "      <th>3</th>\n",
       "      <td>1.0</td>\n",
       "      <td>1.0</td>\n",
       "      <td>0.0</td>\n",
       "      <td>0.0</td>\n",
       "      <td>0.733819</td>\n",
       "      <td>0.732282</td>\n",
       "    </tr>\n",
       "    <tr>\n",
       "      <th>4</th>\n",
       "      <td>1.0</td>\n",
       "      <td>0.0</td>\n",
       "      <td>1.0</td>\n",
       "      <td>1.0</td>\n",
       "      <td>0.742414</td>\n",
       "      <td>0.742300</td>\n",
       "    </tr>\n",
       "    <tr>\n",
       "      <th>5</th>\n",
       "      <td>1.0</td>\n",
       "      <td>0.0</td>\n",
       "      <td>1.0</td>\n",
       "      <td>0.0</td>\n",
       "      <td>0.743231</td>\n",
       "      <td>0.735612</td>\n",
       "    </tr>\n",
       "    <tr>\n",
       "      <th>6</th>\n",
       "      <td>1.0</td>\n",
       "      <td>0.0</td>\n",
       "      <td>0.0</td>\n",
       "      <td>1.0</td>\n",
       "      <td>0.725051</td>\n",
       "      <td>0.736385</td>\n",
       "    </tr>\n",
       "    <tr>\n",
       "      <th>7</th>\n",
       "      <td>1.0</td>\n",
       "      <td>0.0</td>\n",
       "      <td>0.0</td>\n",
       "      <td>0.0</td>\n",
       "      <td>0.734900</td>\n",
       "      <td>0.730279</td>\n",
       "    </tr>\n",
       "    <tr>\n",
       "      <th>8</th>\n",
       "      <td>0.0</td>\n",
       "      <td>1.0</td>\n",
       "      <td>1.0</td>\n",
       "      <td>1.0</td>\n",
       "      <td>0.744124</td>\n",
       "      <td>0.744577</td>\n",
       "    </tr>\n",
       "    <tr>\n",
       "      <th>9</th>\n",
       "      <td>0.0</td>\n",
       "      <td>1.0</td>\n",
       "      <td>1.0</td>\n",
       "      <td>0.0</td>\n",
       "      <td>0.746924</td>\n",
       "      <td>0.742627</td>\n",
       "    </tr>\n",
       "    <tr>\n",
       "      <th>10</th>\n",
       "      <td>0.0</td>\n",
       "      <td>1.0</td>\n",
       "      <td>0.0</td>\n",
       "      <td>1.0</td>\n",
       "      <td>0.739336</td>\n",
       "      <td>0.748749</td>\n",
       "    </tr>\n",
       "    <tr>\n",
       "      <th>11</th>\n",
       "      <td>0.0</td>\n",
       "      <td>1.0</td>\n",
       "      <td>0.0</td>\n",
       "      <td>0.0</td>\n",
       "      <td>0.753367</td>\n",
       "      <td>0.751723</td>\n",
       "    </tr>\n",
       "    <tr>\n",
       "      <th>12</th>\n",
       "      <td>0.0</td>\n",
       "      <td>0.0</td>\n",
       "      <td>1.0</td>\n",
       "      <td>1.0</td>\n",
       "      <td>0.742414</td>\n",
       "      <td>0.742300</td>\n",
       "    </tr>\n",
       "    <tr>\n",
       "      <th>13</th>\n",
       "      <td>0.0</td>\n",
       "      <td>0.0</td>\n",
       "      <td>1.0</td>\n",
       "      <td>0.0</td>\n",
       "      <td>0.747598</td>\n",
       "      <td>0.740108</td>\n",
       "    </tr>\n",
       "    <tr>\n",
       "      <th>14</th>\n",
       "      <td>0.0</td>\n",
       "      <td>0.0</td>\n",
       "      <td>0.0</td>\n",
       "      <td>1.0</td>\n",
       "      <td>0.739336</td>\n",
       "      <td>0.748749</td>\n",
       "    </tr>\n",
       "    <tr>\n",
       "      <th>15</th>\n",
       "      <td>0.0</td>\n",
       "      <td>0.0</td>\n",
       "      <td>0.0</td>\n",
       "      <td>0.0</td>\n",
       "      <td>0.756970</td>\n",
       "      <td>0.752515</td>\n",
       "    </tr>\n",
       "  </tbody>\n",
       "</table>\n",
       "</div>"
      ],
      "text/plain": [
       "    to_lower  keep_punct  stemming  keep_stopwords      f1_C      f1_M\n",
       "0        1.0         1.0       1.0             1.0  0.744124  0.744577\n",
       "1        1.0         1.0       1.0             0.0  0.744074  0.739267\n",
       "2        1.0         1.0       0.0             1.0  0.725051  0.736385\n",
       "3        1.0         1.0       0.0             0.0  0.733819  0.732282\n",
       "4        1.0         0.0       1.0             1.0  0.742414  0.742300\n",
       "5        1.0         0.0       1.0             0.0  0.743231  0.735612\n",
       "6        1.0         0.0       0.0             1.0  0.725051  0.736385\n",
       "7        1.0         0.0       0.0             0.0  0.734900  0.730279\n",
       "8        0.0         1.0       1.0             1.0  0.744124  0.744577\n",
       "9        0.0         1.0       1.0             0.0  0.746924  0.742627\n",
       "10       0.0         1.0       0.0             1.0  0.739336  0.748749\n",
       "11       0.0         1.0       0.0             0.0  0.753367  0.751723\n",
       "12       0.0         0.0       1.0             1.0  0.742414  0.742300\n",
       "13       0.0         0.0       1.0             0.0  0.747598  0.740108\n",
       "14       0.0         0.0       0.0             1.0  0.739336  0.748749\n",
       "15       0.0         0.0       0.0             0.0  0.756970  0.752515"
      ]
     },
     "execution_count": 13,
     "metadata": {
      "tags": []
     },
     "output_type": "execute_result"
    }
   ],
   "source": [
    "tmp = np.asarray(params)\n",
    "data = {\n",
    "    'to_lower' : list(tmp[:,0]),\n",
    "    'keep_punct' : list(tmp[:,1]),\n",
    "    'stemming' : list(tmp[:,2]),\n",
    "    'keep_stopwords' : list(tmp[:,3]),\n",
    "    'f1_C' : list(tmp[:,4]),\n",
    "    'f1_M' : list(tmp[:,5])\n",
    "}\n",
    "df = pd.DataFrame(data, columns = ['to_lower','keep_punct','stemming','keep_stopwords','f1_C','f1_M'])\n",
    "df"
   ]
  },
  {
   "cell_type": "markdown",
   "metadata": {
    "id": "xN6psvOwAMYr"
   },
   "source": [
    "### Regression logistique :"
   ]
  },
  {
   "cell_type": "code",
   "execution_count": null,
   "metadata": {
    "id": "equOXOdvs08c"
   },
   "outputs": [],
   "source": [
    "model = lin.LogisticRegression()\n",
    "res, params = preparation_gridSearch(alltxts_new,alllabs_new,model,0.3)"
   ]
  },
  {
   "cell_type": "code",
   "execution_count": null,
   "metadata": {
    "colab": {
     "base_uri": "https://localhost:8080/",
     "height": 521
    },
    "id": "48c_NH3NsvsY",
    "outputId": "f86d1aa5-33fa-4241-98dc-db1b77707996"
   },
   "outputs": [
    {
     "data": {
      "text/html": [
       "<div>\n",
       "<style scoped>\n",
       "    .dataframe tbody tr th:only-of-type {\n",
       "        vertical-align: middle;\n",
       "    }\n",
       "\n",
       "    .dataframe tbody tr th {\n",
       "        vertical-align: top;\n",
       "    }\n",
       "\n",
       "    .dataframe thead th {\n",
       "        text-align: right;\n",
       "    }\n",
       "</style>\n",
       "<table border=\"1\" class=\"dataframe\">\n",
       "  <thead>\n",
       "    <tr style=\"text-align: right;\">\n",
       "      <th></th>\n",
       "      <th>to_lower</th>\n",
       "      <th>keep_punct</th>\n",
       "      <th>stemming</th>\n",
       "      <th>keep_stopwords</th>\n",
       "      <th>f1_C</th>\n",
       "      <th>f1_M</th>\n",
       "    </tr>\n",
       "  </thead>\n",
       "  <tbody>\n",
       "    <tr>\n",
       "      <th>0</th>\n",
       "      <td>1.0</td>\n",
       "      <td>1.0</td>\n",
       "      <td>1.0</td>\n",
       "      <td>1.0</td>\n",
       "      <td>0.776284</td>\n",
       "      <td>0.733495</td>\n",
       "    </tr>\n",
       "    <tr>\n",
       "      <th>1</th>\n",
       "      <td>1.0</td>\n",
       "      <td>1.0</td>\n",
       "      <td>1.0</td>\n",
       "      <td>0.0</td>\n",
       "      <td>0.762139</td>\n",
       "      <td>0.720039</td>\n",
       "    </tr>\n",
       "    <tr>\n",
       "      <th>2</th>\n",
       "      <td>1.0</td>\n",
       "      <td>1.0</td>\n",
       "      <td>0.0</td>\n",
       "      <td>1.0</td>\n",
       "      <td>0.770995</td>\n",
       "      <td>0.730342</td>\n",
       "    </tr>\n",
       "    <tr>\n",
       "      <th>3</th>\n",
       "      <td>1.0</td>\n",
       "      <td>1.0</td>\n",
       "      <td>0.0</td>\n",
       "      <td>0.0</td>\n",
       "      <td>0.766374</td>\n",
       "      <td>0.722559</td>\n",
       "    </tr>\n",
       "    <tr>\n",
       "      <th>4</th>\n",
       "      <td>1.0</td>\n",
       "      <td>0.0</td>\n",
       "      <td>1.0</td>\n",
       "      <td>1.0</td>\n",
       "      <td>0.780844</td>\n",
       "      <td>0.736585</td>\n",
       "    </tr>\n",
       "    <tr>\n",
       "      <th>5</th>\n",
       "      <td>1.0</td>\n",
       "      <td>0.0</td>\n",
       "      <td>1.0</td>\n",
       "      <td>0.0</td>\n",
       "      <td>0.756103</td>\n",
       "      <td>0.713701</td>\n",
       "    </tr>\n",
       "    <tr>\n",
       "      <th>6</th>\n",
       "      <td>1.0</td>\n",
       "      <td>0.0</td>\n",
       "      <td>0.0</td>\n",
       "      <td>1.0</td>\n",
       "      <td>0.770995</td>\n",
       "      <td>0.730342</td>\n",
       "    </tr>\n",
       "    <tr>\n",
       "      <th>7</th>\n",
       "      <td>1.0</td>\n",
       "      <td>0.0</td>\n",
       "      <td>0.0</td>\n",
       "      <td>0.0</td>\n",
       "      <td>0.760320</td>\n",
       "      <td>0.719404</td>\n",
       "    </tr>\n",
       "    <tr>\n",
       "      <th>8</th>\n",
       "      <td>0.0</td>\n",
       "      <td>1.0</td>\n",
       "      <td>1.0</td>\n",
       "      <td>1.0</td>\n",
       "      <td>0.776284</td>\n",
       "      <td>0.733495</td>\n",
       "    </tr>\n",
       "    <tr>\n",
       "      <th>9</th>\n",
       "      <td>0.0</td>\n",
       "      <td>1.0</td>\n",
       "      <td>1.0</td>\n",
       "      <td>0.0</td>\n",
       "      <td>0.766571</td>\n",
       "      <td>0.728058</td>\n",
       "    </tr>\n",
       "    <tr>\n",
       "      <th>10</th>\n",
       "      <td>0.0</td>\n",
       "      <td>1.0</td>\n",
       "      <td>0.0</td>\n",
       "      <td>1.0</td>\n",
       "      <td>0.785583</td>\n",
       "      <td>0.747407</td>\n",
       "    </tr>\n",
       "    <tr>\n",
       "      <th>11</th>\n",
       "      <td>0.0</td>\n",
       "      <td>1.0</td>\n",
       "      <td>0.0</td>\n",
       "      <td>0.0</td>\n",
       "      <td>0.783556</td>\n",
       "      <td>0.747057</td>\n",
       "    </tr>\n",
       "    <tr>\n",
       "      <th>12</th>\n",
       "      <td>0.0</td>\n",
       "      <td>0.0</td>\n",
       "      <td>1.0</td>\n",
       "      <td>1.0</td>\n",
       "      <td>0.780844</td>\n",
       "      <td>0.736585</td>\n",
       "    </tr>\n",
       "    <tr>\n",
       "      <th>13</th>\n",
       "      <td>0.0</td>\n",
       "      <td>0.0</td>\n",
       "      <td>1.0</td>\n",
       "      <td>0.0</td>\n",
       "      <td>0.760964</td>\n",
       "      <td>0.721649</td>\n",
       "    </tr>\n",
       "    <tr>\n",
       "      <th>14</th>\n",
       "      <td>0.0</td>\n",
       "      <td>0.0</td>\n",
       "      <td>0.0</td>\n",
       "      <td>1.0</td>\n",
       "      <td>0.785583</td>\n",
       "      <td>0.747407</td>\n",
       "    </tr>\n",
       "    <tr>\n",
       "      <th>15</th>\n",
       "      <td>0.0</td>\n",
       "      <td>0.0</td>\n",
       "      <td>0.0</td>\n",
       "      <td>0.0</td>\n",
       "      <td>0.778856</td>\n",
       "      <td>0.744086</td>\n",
       "    </tr>\n",
       "  </tbody>\n",
       "</table>\n",
       "</div>"
      ],
      "text/plain": [
       "    to_lower  keep_punct  stemming  keep_stopwords      f1_C      f1_M\n",
       "0        1.0         1.0       1.0             1.0  0.776284  0.733495\n",
       "1        1.0         1.0       1.0             0.0  0.762139  0.720039\n",
       "2        1.0         1.0       0.0             1.0  0.770995  0.730342\n",
       "3        1.0         1.0       0.0             0.0  0.766374  0.722559\n",
       "4        1.0         0.0       1.0             1.0  0.780844  0.736585\n",
       "5        1.0         0.0       1.0             0.0  0.756103  0.713701\n",
       "6        1.0         0.0       0.0             1.0  0.770995  0.730342\n",
       "7        1.0         0.0       0.0             0.0  0.760320  0.719404\n",
       "8        0.0         1.0       1.0             1.0  0.776284  0.733495\n",
       "9        0.0         1.0       1.0             0.0  0.766571  0.728058\n",
       "10       0.0         1.0       0.0             1.0  0.785583  0.747407\n",
       "11       0.0         1.0       0.0             0.0  0.783556  0.747057\n",
       "12       0.0         0.0       1.0             1.0  0.780844  0.736585\n",
       "13       0.0         0.0       1.0             0.0  0.760964  0.721649\n",
       "14       0.0         0.0       0.0             1.0  0.785583  0.747407\n",
       "15       0.0         0.0       0.0             0.0  0.778856  0.744086"
      ]
     },
     "execution_count": 15,
     "metadata": {
      "tags": []
     },
     "output_type": "execute_result"
    }
   ],
   "source": [
    "tmp = np.asarray(params)\n",
    "data = {\n",
    "    'to_lower' : list(tmp[:,0]),\n",
    "    'keep_punct' : list(tmp[:,1]),\n",
    "    'stemming' : list(tmp[:,2]),\n",
    "    'keep_stopwords' : list(tmp[:,3]),\n",
    "    'f1_C' : list(tmp[:,4]),\n",
    "    'f1_M' : list(tmp[:,5])\n",
    "}\n",
    "df = pd.DataFrame(data, columns = ['to_lower','keep_punct','stemming','keep_stopwords','f1_C','f1_M'])\n",
    "df"
   ]
  },
  {
   "cell_type": "markdown",
   "metadata": {
    "id": "QN_8KWy4haAi"
   },
   "source": [
    "## **Effects of stemmings on vocab size :**\n",
    "\n"
   ]
  },
  {
   "cell_type": "code",
   "execution_count": null,
   "metadata": {
    "colab": {
     "base_uri": "https://localhost:8080/",
     "height": 295
    },
    "id": "6208eq0NgKkT",
    "outputId": "0740aa53-d694-48ad-fd9c-45e5d1ef0a31"
   },
   "outputs": [
    {
     "data": {
      "image/png": "[encoded data removed]",
      "text/plain": [
       "<Figure size 432x288 with 1 Axes>"
      ]
     },
     "metadata": {
      "needs_background": "light",
      "tags": []
     },
     "output_type": "display_data"
    }
   ],
   "source": [
    "ind = np.arange(len(alltxts_new))\n",
    "np.random.shuffle(ind)\n",
    "\n",
    "dataSize = np.linspace(0,len(alltxts_new),10,dtype=int)[1:]\n",
    "vocabSize = []\n",
    "vocabSize_stem = []\n",
    "\n",
    "def prepare_no_stem(x):\n",
    "  return prepare(x,lower=False, numbers=False, punct=False, stemming=False, stopword=True)\n",
    "\n",
    "for x in dataSize:\n",
    "    vect = CountVectorizer(preprocessor = prepare_no_stem,lowercase=False)\n",
    "    X = vect.fit_transform(np.array(alltxts_new)[list(ind[:x])])\n",
    "    vocabSize.append(len(vect.get_feature_names()))\n",
    "\n",
    "    vect = CountVectorizer(preprocessor = prepare,lowercase=False)\n",
    "    X = vect.fit_transform(np.array(alltxts_new)[list(ind[:x])])\n",
    "    vocabSize_stem.append(len(vect.get_feature_names()))\n",
    "\n",
    "    \n",
    "plt.figure()\n",
    "plt.title(\"taille du vocabulaire en fonction de nombre de ligne\")\n",
    "plt.plot(dataSize,vocabSize,label=\"no_stemming\")\n",
    "plt.plot(dataSize,vocabSize_stem,label=\"with_stemming\")\n",
    "plt.xlabel(\"nombre de ligne\")\n",
    "plt.ylabel(\"taille du vocabulaire\")\n",
    "plt.legend()\n",
    "plt.show()"
   ]
  },
  {
   "cell_type": "markdown",
   "metadata": {
    "id": "xNObQJwFfNFu"
   },
   "source": [
    "## Document frequency:"
   ]
  },
  {
   "cell_type": "code",
   "execution_count": null,
   "metadata": {
    "id": "RI9NOK6cdqqY"
   },
   "outputs": [],
   "source": [
    "min_df = [0,0.005,0.01,0.05,0.1,0.2]\n",
    "\n",
    "p=0.3\n",
    "\n",
    "models = [svm.LinearSVC(),nb.MultinomialNB(),lin.LogisticRegression()]\n",
    "\n",
    "svm_chirac = []\n",
    "nb_chirac = []\n",
    "reglog_chirac = []\n",
    "\n",
    "svm_mitt = []\n",
    "nb_mitt = []\n",
    "reglog_mitt = []\n",
    "\n",
    "for df in min_df:\n",
    "\n",
    "  vect = CountVectorizer(preprocessor = process,lowercase=False,min_df=df)\n",
    "\n",
    "\n",
    "  report = get_report(models[0],alltxts_new,alllabs_new,vect,p,shuffle=False)\n",
    "\n",
    "  svm_chirac.append(report['Chirac']['f1-score'])\n",
    "  svm_mitt.append(report['Mitterrand']['f1-score'])\n",
    "\n",
    "\n",
    "  report = get_report(models[1],alltxts_new,alllabs_new,vect,p,shuffle=False)\n",
    "\n",
    "  nb_chirac.append(report['Chirac']['f1-score'])\n",
    "  nb_mitt.append(report['Mitterrand']['f1-score'])\n",
    "\n",
    "\n",
    "  report = get_report(models[2],alltxts_new,alllabs_new,vect,p,shuffle=False)\n",
    "\n",
    "  reglog_chirac.append(report['Chirac']['f1-score'])\n",
    "  reglog_mitt.append(report['Mitterrand']['f1-score'])\n",
    "\n",
    "\n",
    "\n",
    "\n",
    "    "
   ]
  },
  {
   "cell_type": "code",
   "execution_count": null,
   "metadata": {
    "colab": {
     "base_uri": "https://localhost:8080/",
     "height": 296
    },
    "id": "Of84JifWgNIf",
    "outputId": "4575cf30-425c-434d-9ff3-11443f6b572b"
   },
   "outputs": [
    {
     "data": {
      "image/png": "[encoded data removed]",
      "text/plain": [
       "<Figure size 432x288 with 1 Axes>"
      ]
     },
     "metadata": {
      "needs_background": "light",
      "tags": []
     },
     "output_type": "display_data"
    }
   ],
   "source": [
    "plt.figure()\n",
    "plt.title(\"score f1 Chirac en fonction de min_df CountVectorizer\")\n",
    "plt.plot(min_df,svm_chirac,label=\"SVM\")\n",
    "plt.plot(min_df,nb_chirac,label=\"NaiveBayes\")\n",
    "plt.plot(min_df,reglog_chirac,label=\"RegLog\")\n",
    "plt.xlabel(\"min_df\")\n",
    "plt.ylabel(\"score f1\")\n",
    "plt.legend()\n",
    "plt.show()"
   ]
  },
  {
   "cell_type": "code",
   "execution_count": null,
   "metadata": {
    "colab": {
     "base_uri": "https://localhost:8080/",
     "height": 296
    },
    "id": "cnR7e4Idyf6e",
    "outputId": "6cc8d85c-116b-4870-a2c3-5491ec078f28"
   },
   "outputs": [
    {
     "data": {
      "image/png": "[encoded data removed]",
      "text/plain": [
       "<Figure size 432x288 with 1 Axes>"
      ]
     },
     "metadata": {
      "needs_background": "light",
      "tags": []
     },
     "output_type": "display_data"
    }
   ],
   "source": [
    "plt.figure()\n",
    "plt.title(\"score f1 Mitterrand en fonction de min_df CountVectorizer\")\n",
    "plt.plot(min_df,svm_mitt,label=\"SVM\")\n",
    "plt.plot(min_df,nb_mitt,label=\"NaiveBayes\")\n",
    "plt.plot(min_df,reglog_mitt,label=\"RegLog\")\n",
    "plt.xlabel(\"min_df\")\n",
    "plt.ylabel(\"score f1\")\n",
    "plt.legend()\n",
    "plt.show()"
   ]
  },
  {
   "cell_type": "code",
   "execution_count": null,
   "metadata": {
    "colab": {
     "base_uri": "https://localhost:8080/",
     "height": 296
    },
    "id": "rQMhdo3YzGMw",
    "outputId": "caf3f0b1-5f0d-4ec2-b925-992e76eb137f"
   },
   "outputs": [
    {
     "data": {
      "image/png": "[encoded data removed]",
      "text/plain": [
       "<Figure size 432x288 with 1 Axes>"
      ]
     },
     "metadata": {
      "needs_background": "light",
      "tags": []
     },
     "output_type": "display_data"
    }
   ],
   "source": [
    "plt.figure()\n",
    "plt.title(\"score f1 Chirac en fonction de min_df TfidfVectorizer\")\n",
    "plt.plot(min_df,svm_chirac,label=\"SVM\")\n",
    "plt.plot(min_df,nb_chirac,label=\"NaiveBayes\")\n",
    "plt.plot(min_df,reglog_chirac,label=\"RegLog\")\n",
    "plt.xlabel(\"min_df\")\n",
    "plt.ylabel(\"score f1\")\n",
    "plt.legend()\n",
    "plt.show()"
   ]
  },
  {
   "cell_type": "code",
   "execution_count": null,
   "metadata": {
    "colab": {
     "base_uri": "https://localhost:8080/",
     "height": 296
    },
    "id": "W1mAuzhjzH4a",
    "outputId": "e4f09331-d08e-4e3c-bce6-0b4c80e32b5a"
   },
   "outputs": [
    {
     "data": {
      "image/png": "[encoded data removed]",
      "text/plain": [
       "<Figure size 432x288 with 1 Axes>"
      ]
     },
     "metadata": {
      "needs_background": "light",
      "tags": []
     },
     "output_type": "display_data"
    }
   ],
   "source": [
    "plt.figure()\n",
    "plt.title(\"score f1 Mitterrand en fonction de min_df TfidfVectorizer\")\n",
    "plt.plot(min_df,svm_mitt,label=\"SVM\")\n",
    "plt.plot(min_df,nb_mitt,label=\"NaiveBayes\")\n",
    "plt.plot(min_df,reglog_mitt,label=\"RegLog\")\n",
    "plt.xlabel(\"min_df\")\n",
    "plt.ylabel(\"score f1\")\n",
    "plt.legend()\n",
    "plt.show()"
   ]
  },
  {
   "cell_type": "code",
   "execution_count": null,
   "metadata": {
    "id": "JFxSIG4T0iTm"
   },
   "outputs": [],
   "source": [
    "max_df = [1.0,0.9,0.8,0.5]\n",
    "\n",
    "p=0.3\n",
    "\n",
    "models = [svm.LinearSVC(),nb.MultinomialNB(),lin.LogisticRegression()]\n",
    "\n",
    "svm_chirac = []\n",
    "nb_chirac = []\n",
    "reglog_chirac = []\n",
    "\n",
    "svm_mitt = []\n",
    "nb_mitt = []\n",
    "reglog_mitt = []\n",
    "\n",
    "for df in max_df:\n",
    "\n",
    "  vect = CountVectorizer(preprocessor = process,lowercase=False,max_df=df)\n",
    "\n",
    "\n",
    "  report = get_report(models[0],alltxts_new,alllabs_new,vect,p,shuffle=False)\n",
    "\n",
    "  svm_chirac.append(report['Chirac']['f1-score'])\n",
    "  svm_mitt.append(report['Mitterrand']['f1-score'])\n",
    "\n",
    "\n",
    "  report = get_report(models[1],alltxts_new,alllabs_new,vect,p,shuffle=False)\n",
    "\n",
    "  nb_chirac.append(report['Chirac']['f1-score'])\n",
    "  nb_mitt.append(report['Mitterrand']['f1-score'])\n",
    "\n",
    "\n",
    "  report = get_report(models[2],alltxts_new,alllabs_new,vect,p,shuffle=False)\n",
    "\n",
    "  reglog_chirac.append(report['Chirac']['f1-score'])\n",
    "  reglog_mitt.append(report['Mitterrand']['f1-score'])\n",
    "\n",
    "\n",
    "\n",
    "\n",
    "    "
   ]
  },
  {
   "cell_type": "code",
   "execution_count": null,
   "metadata": {
    "colab": {
     "base_uri": "https://localhost:8080/",
     "height": 296
    },
    "id": "jPXlEQpZ2hEM",
    "outputId": "dc4fb5a9-3c58-4bd3-981f-a9dac841c43c"
   },
   "outputs": [
    {
     "data": {
      "image/png": "[encoded data removed]",
      "text/plain": [
       "<Figure size 432x288 with 1 Axes>"
      ]
     },
     "metadata": {
      "needs_background": "light",
      "tags": []
     },
     "output_type": "display_data"
    }
   ],
   "source": [
    "plt.figure()\n",
    "plt.title(\"score f1 Chirac en fonction de max_df CountVectorizer\")\n",
    "plt.plot(max_df,svm_chirac,label=\"SVM\")\n",
    "plt.plot(max_df,nb_chirac,label=\"NaiveBayes\")\n",
    "plt.plot(max_df,reglog_chirac,label=\"RegLog\")\n",
    "plt.xlabel(\"max_df\")\n",
    "plt.ylabel(\"score f1\")\n",
    "plt.legend()\n",
    "plt.show()"
   ]
  },
  {
   "cell_type": "code",
   "execution_count": null,
   "metadata": {
    "colab": {
     "base_uri": "https://localhost:8080/",
     "height": 296
    },
    "id": "MsWUoqxu2nIh",
    "outputId": "1e5a40eb-9b60-4a7d-be5c-85f1c7eb58b6"
   },
   "outputs": [
    {
     "data": {
      "image/png": "[encoded data removed]",
      "text/plain": [
       "<Figure size 432x288 with 1 Axes>"
      ]
     },
     "metadata": {
      "needs_background": "light",
      "tags": []
     },
     "output_type": "display_data"
    }
   ],
   "source": [
    "plt.figure()\n",
    "plt.title(\"score f1 Mitterrand en fonction de max_df CountVectorizer\")\n",
    "plt.plot(max_df,svm_mitt,label=\"SVM\")\n",
    "plt.plot(max_df,nb_mitt,label=\"NaiveBayes\")\n",
    "plt.plot(max_df,reglog_mitt,label=\"RegLog\")\n",
    "plt.xlabel(\"max_df\")\n",
    "plt.ylabel(\"score f1\")\n",
    "plt.legend()\n",
    "plt.show()"
   ]
  },
  {
   "cell_type": "code",
   "execution_count": null,
   "metadata": {
    "colab": {
     "base_uri": "https://localhost:8080/",
     "height": 296
    },
    "id": "OPz1cbba2Fb1",
    "outputId": "b831431d-a44c-4996-fc1a-67d03c7ef275"
   },
   "outputs": [
    {
     "data": {
      "image/png": "[encoded data removed]",
      "text/plain": [
       "<Figure size 432x288 with 1 Axes>"
      ]
     },
     "metadata": {
      "needs_background": "light",
      "tags": []
     },
     "output_type": "display_data"
    }
   ],
   "source": [
    "plt.figure()\n",
    "plt.title(\"score f1 Chirac en fonction de max_df TfidfVectorizer\")\n",
    "plt.plot(max_df,svm_chirac,label=\"SVM\")\n",
    "plt.plot(max_df,nb_chirac,label=\"NaiveBayes\")\n",
    "plt.plot(max_df,reglog_chirac,label=\"RegLog\")\n",
    "plt.xlabel(\"max_df\")\n",
    "plt.ylabel(\"score f1\")\n",
    "plt.legend()\n",
    "plt.show()"
   ]
  },
  {
   "cell_type": "code",
   "execution_count": null,
   "metadata": {
    "colab": {
     "base_uri": "https://localhost:8080/",
     "height": 296
    },
    "id": "Kse2kC0Y2bgQ",
    "outputId": "28dee779-dfac-4f98-f596-0a2bd45f77d9"
   },
   "outputs": [
    {
     "data": {
      "image/png": "[encoded data removed]",
      "text/plain": [
       "<Figure size 432x288 with 1 Axes>"
      ]
     },
     "metadata": {
      "needs_background": "light",
      "tags": []
     },
     "output_type": "display_data"
    }
   ],
   "source": [
    "plt.figure()\n",
    "plt.title(\"score f1 Mitterrand en fonction de max_df TfidfVectorizer\")\n",
    "plt.plot(max_df,svm_mitt,label=\"SVM\")\n",
    "plt.plot(max_df,nb_mitt,label=\"NaiveBayes\")\n",
    "plt.plot(max_df,reglog_mitt,label=\"RegLog\")\n",
    "plt.xlabel(\"max_df\")\n",
    "plt.ylabel(\"score f1\")\n",
    "plt.legend()\n",
    "plt.show()"
   ]
  },
  {
   "cell_type": "markdown",
   "metadata": {
    "id": "aHueZbf9gOCL"
   },
   "source": [
    "## Uni,Bi,Tri GRAM"
   ]
  },
  {
   "cell_type": "code",
   "execution_count": null,
   "metadata": {
    "id": "DmI7h8HLfL1H"
   },
   "outputs": [],
   "source": [
    "p=0.3\n",
    "\n",
    "models = [svm.LinearSVC(),nb.MultinomialNB(),lin.LogisticRegression()]\n",
    "\n",
    "unigram_chirac = []\n",
    "bigram_chirac = []\n",
    "trigram_chirac = []\n",
    "uni_bigram_chirac = []\n",
    "uni_bi_trigram_chirac = []\n",
    "\n",
    "unigram_mitt = []\n",
    "bigram_mitt = []\n",
    "trigram_mitt = []\n",
    "uni_bigram_mitt = []\n",
    "uni_bi_trigram_mitt = []\n",
    "\n",
    "for m in models:\n",
    "\n",
    "  vect = TfidfVectorizer(preprocessor = process,lowercase=False)\n",
    "  report = get_report(m,alltxts_new,alllabs_new,vect,p,shuffle=False)\n",
    "\n",
    "  unigram_chirac.append(report['Chirac']['f1-score'])\n",
    "  unigram_mitt.append(report['Mitterrand']['f1-score'])\n",
    "\n",
    "  vect = TfidfVectorizer(preprocessor = process,lowercase=False,ngram_range=(2,2))\n",
    "  report = get_report(m,alltxts_new,alllabs_new,vect,p,shuffle=False)\n",
    "\n",
    "  bigram_chirac.append(report['Chirac']['f1-score'])\n",
    "  bigram_mitt.append(report['Mitterrand']['f1-score'])\n",
    "\n",
    "  vect = TfidfVectorizer(preprocessor = process,lowercase=False,ngram_range=(3,3))\n",
    "  report = get_report(m,alltxts_new,alllabs_new,vect,p,shuffle=False)\n",
    "\n",
    "  trigram_chirac.append(report['Chirac']['f1-score'])\n",
    "  trigram_mitt.append(report['Mitterrand']['f1-score'])\n",
    "\n",
    "  vect = TfidfVectorizer(preprocessor = process,lowercase=False,ngram_range=(1,2))\n",
    "  report = get_report(m,alltxts_new,alllabs_new,vect,p,shuffle=False)\n",
    "\n",
    "  uni_bigram_chirac.append(report['Chirac']['f1-score'])\n",
    "  uni_bigram_mitt.append(report['Mitterrand']['f1-score'])\n",
    "\n",
    "  vect = TfidfVectorizer(preprocessor = process,lowercase=False,ngram_range=(1,3))\n",
    "  report = get_report(m,alltxts_new,alllabs_new,vect,p,shuffle=False)\n",
    "\n",
    "  uni_bi_trigram_chirac.append(report['Chirac']['f1-score'])\n",
    "  uni_bi_trigram_mitt.append(report['Mitterrand']['f1-score'])\n",
    "\n",
    "\n",
    "\n",
    "  "
   ]
  },
  {
   "cell_type": "code",
   "execution_count": null,
   "metadata": {
    "id": "7AzVSN3mm-ut"
   },
   "outputs": [],
   "source": [
    "scores_chirac = np.array([unigram_chirac, bigram_chirac, trigram_chirac, uni_bigram_chirac, uni_bi_trigram_chirac])\n",
    "scores_mitt = np.array([unigram_mitt, bigram_mitt, trigram_mitt, uni_bigram_mitt, uni_bi_trigram_mitt])"
   ]
  },
  {
   "cell_type": "code",
   "execution_count": null,
   "metadata": {
    "id": "0h8tf5Wmmjpb"
   },
   "outputs": [],
   "source": [
    "def plot_score_ngram(scores,title):\n",
    "  colors = ['red','yellow', 'blue','orange','green']\n",
    "  model_names = [1,2,3]\n",
    "  labels = [\"unigram\", \"bigram\", \"trigram\", \"uni+bigram\",\"uni+bi+trigram\"]\n",
    "  names = [\"SVM\",\"NaiveBayes\",\"RegLog\"]\n",
    "\n",
    "\n",
    "  x_positions = np.array([1,2,3])\n",
    "\n",
    "  number_of_groups = scores.shape[0]\n",
    "  fill_factor =  .8  # ratio of the groups width\n",
    "                    # relatively to the available space between ticks\n",
    "  bar_width = np.diff(x_positions).min()/number_of_groups * fill_factor\n",
    "\n",
    "\n",
    "  for i, groupdata in enumerate(scores): \n",
    "      bar_positions = x_positions - number_of_groups*bar_width/2 + (i + 0.5)*bar_width\n",
    "      plt.bar(bar_positions, groupdata, bar_width,\n",
    "              align='center',\n",
    "              linewidth=1, edgecolor='k',\n",
    "              color=colors[i], alpha=0.7,\n",
    "              label=labels[i])\n",
    "\n",
    "  plt.xticks(x_positions,names);\n",
    "  plt.legend(loc=(1.04,0)); \n",
    "  plt.title(title)\n",
    "  plt.xlabel('model')\n",
    "  plt.ylabel('f1 score')"
   ]
  },
  {
   "cell_type": "code",
   "execution_count": null,
   "metadata": {
    "colab": {
     "base_uri": "https://localhost:8080/",
     "height": 295
    },
    "id": "rRDLX1hTsKsz",
    "outputId": "6f6d7532-edfe-4cda-d615-0d988be0db99"
   },
   "outputs": [
    {
     "data": {
      "image/png": "[encoded data removed]",
      "text/plain": [
       "<Figure size 432x288 with 1 Axes>"
      ]
     },
     "metadata": {
      "needs_background": "light",
      "tags": []
     },
     "output_type": "display_data"
    }
   ],
   "source": [
    "plot_score_ngram(scores_chirac,\"f1 score Chirac n-gram TfidfVectorizer\")"
   ]
  },
  {
   "cell_type": "code",
   "execution_count": null,
   "metadata": {
    "colab": {
     "base_uri": "https://localhost:8080/",
     "height": 295
    },
    "id": "kR3VluzGsWOg",
    "outputId": "02519530-af92-40bf-cdaf-219939647347"
   },
   "outputs": [
    {
     "data": {
      "image/png": "[encoded data removed]",
      "text/plain": [
       "<Figure size 432x288 with 1 Axes>"
      ]
     },
     "metadata": {
      "needs_background": "light",
      "tags": []
     },
     "output_type": "display_data"
    }
   ],
   "source": [
    "plot_score_ngram(scores_mitt,\"f1 score Mitterrand n-gram TfidfVectorizer\")"
   ]
  },
  {
   "cell_type": "code",
   "execution_count": null,
   "metadata": {
    "colab": {
     "base_uri": "https://localhost:8080/",
     "height": 295
    },
    "id": "7wZJK2k3zM2g",
    "outputId": "6b34c358-0eea-43eb-cc87-eff43966845c"
   },
   "outputs": [
    {
     "data": {
      "image/png": "[encoded data removed]",
      "text/plain": [
       "<Figure size 432x288 with 1 Axes>"
      ]
     },
     "metadata": {
      "needs_background": "light",
      "tags": []
     },
     "output_type": "display_data"
    }
   ],
   "source": [
    "vect = TfidfVectorizer(lowercase=False,ngram_range=(1,3))\n",
    "gridSearchSVM(train_X,train_y,test_X,test_y,vect)"
   ]
  },
  {
   "cell_type": "code",
   "execution_count": null,
   "metadata": {
    "colab": {
     "base_uri": "https://localhost:8080/"
    },
    "id": "KDctX0cx5eTF",
    "outputId": "b93f19c9-3467-4f98-e71c-c31d86786c21"
   },
   "outputs": [
    {
     "data": {
      "text/plain": [
       "{'-1': {'f1-score': 0.8344388086877357,\n",
       "  'precision': 0.8242548818088387,\n",
       "  'recall': 0.8448775348959705,\n",
       "  'support': 3797},\n",
       " '1': {'f1-score': 0.9727029055430471,\n",
       "  'precision': 0.9746884400515685,\n",
       "  'recall': 0.9707254440402311,\n",
       "  'support': 23365},\n",
       " 'accuracy': 0.9531330535306678,\n",
       " 'macro avg': {'f1-score': 0.9035708571153913,\n",
       "  'precision': 0.8994716609302036,\n",
       "  'recall': 0.9078014894681008,\n",
       "  'support': 27162},\n",
       " 'weighted avg': {'f1-score': 0.9533748451734272,\n",
       "  'precision': 0.9536591999128583,\n",
       "  'recall': 0.9531330535306678,\n",
       "  'support': 27162}}"
      ]
     },
     "execution_count": 176,
     "metadata": {
      "tags": []
     },
     "output_type": "execute_result"
    }
   ],
   "source": [
    "f = codecs.open(\"best_labels.txt\",\"r\",\"utf-8\")\n",
    "l = f.read().split()\n",
    "l = np.asarray(l)\n",
    "\n",
    "l = np.where(l=='C',1,-1)\n",
    "f.close()\n",
    "classification_report(alllabs_test, l,output_dict=True)"
   ]
  },
  {
   "cell_type": "code",
   "execution_count": null,
   "metadata": {
    "colab": {
     "base_uri": "https://localhost:8080/"
    },
    "id": "7BlrLoQkxjZb",
    "outputId": "f290b303-8a33-4fc3-e5be-7e5a839f763c"
   },
   "outputs": [
    {
     "data": {
      "text/plain": [
       "{'-1': {'f1-score': 0.520749947335159,\n",
       "  'precision': 0.5364583333333334,\n",
       "  'recall': 0.5059353254195661,\n",
       "  'support': 2443},\n",
       " '1': {'f1-score': 0.9235319821182482,\n",
       "  'precision': 0.9192372030779525,\n",
       "  'recall': 0.9278670809131433,\n",
       "  'support': 14806},\n",
       " 'accuracy': 0.8681082961331091,\n",
       " 'macro avg': {'f1-score': 0.7221409647267036,\n",
       "  'precision': 0.727847768205643,\n",
       "  'recall': 0.7169012031663546,\n",
       "  'support': 17249},\n",
       " 'weighted avg': {'f1-score': 0.8664853990713999,\n",
       "  'precision': 0.865023696278364,\n",
       "  'recall': 0.8681082961331091,\n",
       "  'support': 17249}}"
      ]
     },
     "execution_count": 33,
     "metadata": {
      "tags": []
     },
     "output_type": "execute_result"
    }
   ],
   "source": [
    "def process(x):\n",
    "  return prepare(x)\n",
    "\n",
    "vect = CountVectorizer(preprocessor=process,lowercase=False,min_df=5)\n",
    "X = vect.fit_transform(np.array(train_X))\n",
    "X_test = vect.transform(np.array(test_X))\n",
    "mm = nb.MultinomialNB()\n",
    "mm.fit(X, train_y)\n",
    "classification_report(test_y, mm.predict(X_test),output_dict=True)\n"
   ]
  },
  {
   "cell_type": "code",
   "execution_count": null,
   "metadata": {
    "colab": {
     "base_uri": "https://localhost:8080/"
    },
    "id": "nzdm0hOaesW-",
    "outputId": "6b839d46-ab1c-4e64-c271-f811c0933757"
   },
   "outputs": [
    {
     "data": {
      "text/plain": [
       "{'-1': {'f1-score': 0.6436849053835999,\n",
       "  'precision': 0.7264900662251655,\n",
       "  'recall': 0.577824598367132,\n",
       "  'support': 3797},\n",
       " '1': {'f1-score': 0.9488706927400172,\n",
       "  'precision': 0.9336011929417612,\n",
       "  'recall': 0.9646479777444896,\n",
       "  'support': 23365},\n",
       " 'accuracy': 0.9105735954642515,\n",
       " 'macro avg': {'f1-score': 0.7962777990618086,\n",
       "  'precision': 0.8300456295834634,\n",
       "  'recall': 0.7712362880558108,\n",
       "  'support': 27162},\n",
       " 'weighted avg': {'f1-score': 0.9062085016424427,\n",
       "  'precision': 0.9046489453847731,\n",
       "  'recall': 0.9105735954642515,\n",
       "  'support': 27162}}"
      ]
     },
     "execution_count": 158,
     "metadata": {
      "tags": []
     },
     "output_type": "execute_result"
    }
   ],
   "source": [
    "def process(x):\n",
    "  return prepare(x)\n",
    "\n",
    "vect = TfidfVectorizer(lowercase=False,ngram_range=(1,3))\n",
    "X = vect.fit_transform(np.array(alltxts))\n",
    "X_test = vect.transform(np.array(alltxts_test))\n",
    "mm = svm.LinearSVC(C=100)\n",
    "mm.fit(X, alllabs)\n",
    "l = mm.predict(X_test)\n",
    "classification_report(alllabs_test, l,output_dict=True)\n"
   ]
  },
  {
   "cell_type": "code",
   "execution_count": null,
   "metadata": {
    "id": "gUegz0DSlB6s"
   },
   "outputs": [],
   "source": [
    "from collections import Counter\n",
    "def lissage(pred, k, coef):\n",
    "    window = (k-1)//2\n",
    "\n",
    "    new = list(pred[:window])\n",
    "    \n",
    "    for i in range(window,len(pred)-window):\n",
    "        tmp = Counter(pred[i-window:i+window+1])\n",
    "        nbC = tmp[1]\n",
    "        nbM = tmp[-1]\n",
    "        if nbC > coef*nbM:\n",
    "            new.append(1)\n",
    "        else:\n",
    "            new.append(-1)\n",
    "    for j in range(window):\n",
    "        new.append(pred[-(window-j)])\n",
    "\n",
    "\n",
    "    return new"
   ]
  },
  {
   "cell_type": "code",
   "execution_count": null,
   "metadata": {
    "colab": {
     "base_uri": "https://localhost:8080/"
    },
    "id": "8FKKcdwWlEKj",
    "outputId": "1e6009ff-8852-492e-ab31-f9dd0406836c"
   },
   "outputs": [
    {
     "data": {
      "text/plain": [
       "{'-1': {'f1-score': 0.8344388086877357,\n",
       "  'precision': 0.8242548818088387,\n",
       "  'recall': 0.8448775348959705,\n",
       "  'support': 3797},\n",
       " '1': {'f1-score': 0.9727029055430471,\n",
       "  'precision': 0.9746884400515685,\n",
       "  'recall': 0.9707254440402311,\n",
       "  'support': 23365},\n",
       " 'accuracy': 0.9531330535306678,\n",
       " 'macro avg': {'f1-score': 0.9035708571153913,\n",
       "  'precision': 0.8994716609302036,\n",
       "  'recall': 0.9078014894681008,\n",
       "  'support': 27162},\n",
       " 'weighted avg': {'f1-score': 0.9533748451734272,\n",
       "  'precision': 0.9536591999128583,\n",
       "  'recall': 0.9531330535306678,\n",
       "  'support': 27162}}"
      ]
     },
     "execution_count": 160,
     "metadata": {
      "tags": []
     },
     "output_type": "execute_result"
    }
   ],
   "source": [
    "ll = lissage(l,9,2.5)\n",
    "\n",
    "classification_report(alllabs_test, ll,output_dict=True)"
   ]
  },
  {
   "cell_type": "code",
   "execution_count": null,
   "metadata": {
    "id": "tqACQp4C2C-s"
   },
   "outputs": [],
   "source": [
    "f = codecs.open(\"best_labels.txt\", \"w\", \"utf-8\")\n",
    "for ligne in ll:\n",
    "  if ligne == -1:\n",
    "    f.write('M\\n')\n",
    "  if ligne == 1:\n",
    "    f.write('C\\n')\n",
    "f.close()\n"
   ]
  },
  {
   "cell_type": "code",
   "execution_count": null,
   "metadata": {
    "colab": {
     "base_uri": "https://localhost:8080/",
     "height": 295
    },
    "id": "YGbkOZK1agep",
    "outputId": "2dc78484-23f2-41fb-b8b2-72cbc7dba2a8"
   },
   "outputs": [
    {
     "data": {
      "image/png": "[encoded data removed]",
      "text/plain": [
       "<Figure size 432x288 with 1 Axes>"
      ]
     },
     "metadata": {
      "needs_background": "light",
      "tags": []
     },
     "output_type": "display_data"
    }
   ],
   "source": [
    "gridSearchLissage(test_y,l)"
   ]
  }
 ],
 "metadata": {
  "colab": {
   "collapsed_sections": [
    "LZCG5KNtIVlS"
   ],
   "name": "presid.ipynb",
   "provenance": [],
   "toc_visible": true
  },
  "kernelspec": {
   "display_name": "Python 3",
   "language": "python",
   "name": "python3"
  },
  "language_info": {
   "codemirror_mode": {
    "name": "ipython",
    "version": 3
   },
   "file_extension": ".py",
   "mimetype": "text/x-python",
   "name": "python",
   "nbconvert_exporter": "python",
   "pygments_lexer": "ipython3",
   "version": "3.7.4"
  }
 },
 "nbformat": 4,
 "nbformat_minor": 1
}
